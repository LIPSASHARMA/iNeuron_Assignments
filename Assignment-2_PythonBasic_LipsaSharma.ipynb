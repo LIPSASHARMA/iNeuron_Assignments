{
 "cells": [
  {
   "cell_type": "markdown",
   "metadata": {},
   "source": [
    "### Question 1. What are the Boolean data type&#39;s two values? How do you go about writing them?\n",
    "\n",
    "#### Answer 1. \n",
    "Two values of boolean are 'True' and 'False'. You can either declare a variable and assign either of these values or you can put it as return type as either of these values in a function."
   ]
  },
  {
   "cell_type": "code",
   "execution_count": 6,
   "metadata": {},
   "outputs": [
    {
     "name": "stdout",
     "output_type": "stream",
     "text": [
      "True\n",
      "False\n",
      "True\n"
     ]
    }
   ],
   "source": [
    "print (True)\n",
    "print(False)\n",
    "\n",
    "a = True\n",
    "if (a): \n",
    "    print (a)"
   ]
  },
  {
   "cell_type": "markdown",
   "metadata": {},
   "source": [
    "### Question 2. What are the three different types of Boolean operators?\n",
    "\n",
    "#### Answer 2. \n",
    "The three boolean operators are NOT, AND, OR"
   ]
  },
  {
   "cell_type": "markdown",
   "metadata": {},
   "source": [
    "### Question 3. Make a list of each Boolean operator&#39;s truth tables (i.e. every possible combination of Boolean values for the operator and what it evaluate ).\n",
    "\n",
    "#### Answer 3.\n",
    "\n",
    "##### AND:\n",
    "\n",
    "| Value1 | Value2 | Operand | Output |\n",
    "| --- | --- | --- | --- |\n",
    "| True | True | AND | True |\n",
    "| True | False | AND | False |\n",
    "| False | True | AND | False |\n",
    "| False | False | AND | False |\n",
    "\n",
    "##### OR:\n",
    "\n",
    "| Value1 | Value2 | Operand | Output |\n",
    "| --- | --- | --- | --- |\n",
    "| True | True | OR | True |\n",
    "| True | False | OR | True |\n",
    "| False | True | OR | True |\n",
    "| False | False | OR | False |\n",
    "\n",
    "\n",
    "##### NOT:\n",
    "\n",
    "| Value1 | Operand | Output |\n",
    "| --- | --- | --- |\n",
    "| False | NOT | True |\n",
    "| True | NOT | False |\n",
    "\n"
   ]
  },
  {
   "cell_type": "markdown",
   "metadata": {},
   "source": [
    "### Question 4. What are the values of the following expressions?\n",
    "\n",
    "- (5 &gt; 4) and (3 == 5)\n",
    "- not (5 &gt; 4)\n",
    "- (5 &gt; 4) or (3 == 5)\n",
    "- not ((5 &gt; 4) or (3 == 5))\n",
    "- (True and True) and (True == False)\n",
    "- (not False) or (not True)\n",
    "\n",
    "\n",
    "#### Answer 4. \n",
    "|S.No. | Expression  | Result    |\n",
    "|---:|:-------------:|-----------:|\n",
    "| 1 | (5 &gt; 4) and (3 == 5)  | False       |\n",
    "| 2 | not (5 &gt; 4)  | False    |\n",
    "| 3 | (5 &gt; 4) or (3 == 5)  | True    |\n",
    "| 4 | not ((5 &gt; 4) or (3 == 5))  | False    |\n",
    "| 5 | (True and True) and (True == False)  | False    |\n",
    "| 6 | (not False) or (not True)  | True    |\n",
    "\n"
   ]
  },
  {
   "cell_type": "markdown",
   "metadata": {},
   "source": [
    "### Question 5. What are the six different types of comparison operators?\n",
    "\n",
    "\n",
    "#### Answer 5. \n",
    "Six different types of operators are:\n",
    "\n",
    "- == (equal to)\n",
    "- != (not equal to)\n",
    "- \\>= (greater than equal to)\n",
    "- <= (less than equal to)\n",
    "- \\> (greater than)\n",
    "- < (less than)"
   ]
  },
  {
   "cell_type": "markdown",
   "metadata": {},
   "source": [
    "### Question 6. How do you tell the difference between the equal to and assignment operators?\n",
    "\n",
    "\n",
    "#### Answer 6. \n",
    "I will explain this with an example. \n",
    "When you write __a = 5__, it means you are __assigning__ a value of '5' to the variable 'a' and its value will not change until and unless an operation is performed on it. When you print 'a' then its value will be '5'.\n",
    "On the other hand, when you write __a == 5__, it means you are checking if the value of 'a' is __equal to__ '5' or not and this will either return a __True__ or a __False__ and it cannot have any third value apart from these two. "
   ]
  },
  {
   "cell_type": "markdown",
   "metadata": {},
   "source": [
    "### Question 7. Describe a condition and when you would use one.\n",
    "\n",
    "\n",
    "#### Answer 7. \n",
    "\n",
    "A condition is situation or a statement which results in either True or False depending on the statement provided. For example, if I write : \n",
    "```\n",
    "a = 4\n",
    "if a > 5:\n",
    "    print ('A is greater than 5')\n",
    "else:\n",
    "    print ('A is less than 5')\n",
    "    \n",
    "```"
   ]
  },
  {
   "cell_type": "markdown",
   "metadata": {},
   "source": [
    "### Question 8. Recognize the following three blocks in this code:\n",
    "```\n",
    "spam = 0\n",
    "if spam == 10:\n",
    "print(&#39;eggs&#39;)\n",
    "\n",
    "if spam &gt; 5:\n",
    "print(&#39;bacon&#39;)\n",
    "else:\n",
    "print(&#39;ham&#39;)\n",
    "print(&#39;spam&#39;)\n",
    "print(&#39;spam&#39;)\n",
    "```\n",
    "\n",
    "#### Answer 8. \n",
    "The first block in the code is declaration and printing of __'eggs'__ and __'spam'__ if 'spam' is equal to '10'. The second block is the check whether 'spam' is greater than '5' or not. If it is then print __'bacon'__ else print __'ham'__. The third block is the outside print statement that prints __'spam'__. The output of this program is 'spam' as shown in the code run below. "
   ]
  },
  {
   "cell_type": "code",
   "execution_count": 14,
   "metadata": {},
   "outputs": [
    {
     "name": "stdout",
     "output_type": "stream",
     "text": [
      "spam\n"
     ]
    }
   ],
   "source": [
    "spam = 0\n",
    "if spam == 10:\n",
    "    print('eggs')\n",
    "\n",
    "    if spam > 5:\n",
    "        print('bacon')\n",
    "    else:\n",
    "        print('ham')\n",
    "    print('spam')\n",
    "print('spam')"
   ]
  },
  {
   "cell_type": "markdown",
   "metadata": {},
   "source": [
    "### Question 9. Create a programme that prints. If 1 is stored in spam, prints Hello; if 2 is stored in spam, prints Howdy; and if 3 is stored in spam, prints Salutations! if there&#39;s something else in spam.\n",
    "\n",
    "\n",
    "#### Answer 9. \n",
    "Please see the code snippet below:"
   ]
  },
  {
   "cell_type": "code",
   "execution_count": 22,
   "metadata": {},
   "outputs": [
    {
     "name": "stdout",
     "output_type": "stream",
     "text": [
      "spam\n"
     ]
    }
   ],
   "source": [
    "spam = 4\n",
    "\n",
    "if (spam == 1):\n",
    "    print ('Hello')\n",
    "elif (spam == 2):\n",
    "    print ('Howdy')\n",
    "elif (spam == 3):\n",
    "    print ('Salutations!')\n",
    "else:\n",
    "    print ('spam')"
   ]
  },
  {
   "cell_type": "markdown",
   "metadata": {},
   "source": [
    "### Question 10.If your programme is stuck in an endless loop, what keys can you press?\n",
    "\n",
    "\n",
    "#### Answer 10. \n",
    "On a windows laptop it is CTRL + C"
   ]
  },
  {
   "cell_type": "markdown",
   "metadata": {},
   "source": [
    "### Question 11. How can you tell the difference between break and continue?\n",
    "\n",
    "\n",
    "#### Answer 11. \n",
    "The break statement inside a loop breaks the loop and brings out of that loop and executes the immediate next statement outisde that loop. \n",
    "Continue statement continues and moves the execution to the start of the loop."
   ]
  },
  {
   "cell_type": "markdown",
   "metadata": {},
   "source": [
    "### Question 12. In a for loop, what is the difference between range(10), range(0, 10), and range(0, 10, 1)?\n",
    "\n",
    "\n",
    "#### Answer 12. \n",
    "There is no difference in the three statements. Its just different ways to write the same thing."
   ]
  },
  {
   "cell_type": "code",
   "execution_count": 32,
   "metadata": {},
   "outputs": [
    {
     "name": "stdout",
     "output_type": "stream",
     "text": [
      "0\n",
      "1\n",
      "2\n",
      "3\n",
      "4\n",
      "5\n",
      "6\n",
      "7\n",
      "8\n",
      "9\n"
     ]
    }
   ],
   "source": [
    "for i in range(0,10,1):\n",
    "    print(i)"
   ]
  },
  {
   "cell_type": "markdown",
   "metadata": {},
   "source": [
    "### Question 13. Using a for loop, write a short programme that prints the numbers 1 to 10 Then, using a while loop, create an identical programme that prints the numbers 1 to 10.\n",
    "\n",
    "\n",
    "#### Answer 13. \n",
    "Please see the code snippets below:"
   ]
  },
  {
   "cell_type": "code",
   "execution_count": 35,
   "metadata": {
    "scrolled": true
   },
   "outputs": [
    {
     "name": "stdout",
     "output_type": "stream",
     "text": [
      "1\n",
      "2\n",
      "3\n",
      "4\n",
      "5\n",
      "6\n",
      "7\n",
      "8\n",
      "9\n",
      "10\n"
     ]
    }
   ],
   "source": [
    "for i in range (1,11):\n",
    "    print (i)  "
   ]
  },
  {
   "cell_type": "code",
   "execution_count": 41,
   "metadata": {},
   "outputs": [
    {
     "name": "stdout",
     "output_type": "stream",
     "text": [
      "1\n",
      "2\n",
      "3\n",
      "4\n",
      "5\n",
      "6\n",
      "7\n",
      "8\n",
      "9\n",
      "10\n"
     ]
    }
   ],
   "source": [
    "i = 1\n",
    "\n",
    "while (i <= 10):\n",
    "    print (i)\n",
    "    i= i+1"
   ]
  },
  {
   "cell_type": "markdown",
   "metadata": {},
   "source": [
    "### Question 14. If you had a bacon() function within a spam module, how would you call it after importing spam?\n",
    "\n",
    "\n",
    "#### Answer 14. \n",
    "This is possible by using the following statement:\n",
    "\n",
    "```\n",
    "spam.bacon()\n",
    "```"
   ]
  }
 ],
 "metadata": {
  "kernelspec": {
   "display_name": "Python 3",
   "language": "python",
   "name": "python3"
  },
  "language_info": {
   "codemirror_mode": {
    "name": "ipython",
    "version": 3
   },
   "file_extension": ".py",
   "mimetype": "text/x-python",
   "name": "python",
   "nbconvert_exporter": "python",
   "pygments_lexer": "ipython3",
   "version": "3.8.5"
  }
 },
 "nbformat": 4,
 "nbformat_minor": 4
}
