{
 "cells": [
  {
   "cell_type": "markdown",
   "metadata": {},
   "source": [
    "### Question 1: What are the differences between operators and values in the following?\n",
    "\n",
    "- * \n",
    "- &#39;hello&#39;\n",
    "- -87.8\n",
    "- -\n",
    "- /\n",
    "- +\n",
    "- 6\n",
    "\n",
    "#### Answer 1:\n",
    "The operators in the above list are: * , - , + , / \n",
    "\n",
    "The values in the above list are: 'hello', -87.8, 6\n",
    "\n",
    "you can differentiate between the two by putting single quotes before and after the text or putting integer/float numbers for values. You can use plus operator to concatenate two strings and multiply operator to repeat a string that many number of times but remaining operators you cannot use on the strings. You can use subtract, divide, multiply and add on various whole numbers, float and integers"
   ]
  },
  {
   "cell_type": "markdown",
   "metadata": {},
   "source": [
    "### Question 2: What is the difference between string and variable?\n",
    "- spam\n",
    "\n",
    "- &#39;spam&#39;\n",
    "\n",
    "#### Answer 2: \n",
    "spam is variable but 'spam' with single quotes is a string constant. You can assign spam any value but 'spam' itself is a value and it cannot be changed."
   ]
  },
  {
   "cell_type": "markdown",
   "metadata": {},
   "source": [
    "### Question 3: Describe three different data forms.\n",
    "\n",
    "#### Answer 3: \n",
    "The three data forms are:\n",
    "- qualitative and quantitative data\n",
    "- continuous and discrete data\n",
    "- primary and secondary data"
   ]
  },
  {
   "cell_type": "markdown",
   "metadata": {},
   "source": [
    "### Question 4: What makes up an expression? What are the functions of all expressions?\n",
    "\n",
    "#### Answer 4: \n",
    "You create an expression when you wish to represent some value in the program. They are represented by identifiers, literals and operators. \n",
    "\n",
    "For example, lst1 = [1,2,3,4,5] is an example of list expression"
   ]
  },
  {
   "cell_type": "markdown",
   "metadata": {},
   "source": [
    "### Question 5: In this chapter, assignment statements such as spam = 10 were added. What&#39;s the difference between a declaration and an expression?\n",
    "\n",
    "#### Answer 5:  \n",
    "A declaration evaluates to a single value and a expression may not"
   ]
  },
  {
   "cell_type": "markdown",
   "metadata": {},
   "source": [
    "### Question 6: After running the following code, what does the variable bacon contain?\n",
    "### bacon = 22\n",
    "### bacon + 1\n",
    "\n",
    "#### Answer 6: \n",
    "bacon is assigned a value of 22 so it will contain 22 but if we run this program then it exceute both the statements and prints 23. However, if we print the value of bacon it will show as 22 only. "
   ]
  },
  {
   "cell_type": "markdown",
   "metadata": {},
   "source": [
    "### Question 7: What should the values of the following two terms be?\n",
    "\n",
    "&#39;spam&#39; + &#39;spamspam&#39;\n",
    "&#39;spam&#39; * 3\n",
    "\n",
    "#### Answer 7: \n",
    "Both the expressions will return the same result i.e. 'spamspamspam'\n",
    "You can use the plus operator and the multiplication operator on strings. Plus operator will concatenate the strings whereas multiplication operator will repeat the string N number of times."
   ]
  },
  {
   "cell_type": "markdown",
   "metadata": {},
   "source": [
    "### Question 8: Why is it that eggs is a true variable name but 100 is not?\n",
    "\n",
    "#### Answer 8: \n",
    "A variable name can be a string or a alphanumeric value. Say, for example, lst, lst1, lst11, etc. can be defined as variable names whereas an integer (i.e. 100) is a constant value so it cannot be a variable name. However, a variable can hold the value of 100"
   ]
  },
  {
   "cell_type": "markdown",
   "metadata": {},
   "source": [
    "### Question 9: What three functions can be used to get the integer, floating-point number, or string version of a value?\n",
    "\n",
    "#### Answer 9: \n",
    "The three functions tha can be used are: int(), float() and str ()"
   ]
  },
  {
   "cell_type": "markdown",
   "metadata": {},
   "source": [
    "### Question 10: What is the error caused by this expression? What would you do about it?\n",
    "\n",
    "&#39;I have eaten &#39; + 99 + &#39; burritos.&#39;\n",
    "\n",
    "#### Answer 10: \n",
    "The error caused is: \n",
    "\n",
    "---------------------------------------------------------------------------\n",
    "TypeError                                 Traceback (most recent call last)\n",
    "<ipython-input-6-d24137131a5c> in <module>\n",
    "----> 1 'I have eaten ' + 99 + ' burritos.'\n",
    "\n",
    "TypeError: can only concatenate str (not \"int\") to str\n",
    "    \n",
    "    \n",
    "    \n",
    "\n",
    "To fix this problem, it should be written as: 'I have eaten ' + str(99) + ' burritos.'"
   ]
  },
  {
   "cell_type": "code",
   "execution_count": 7,
   "metadata": {},
   "outputs": [
    {
     "data": {
      "text/plain": [
       "'I have eaten 99 burritos.'"
      ]
     },
     "execution_count": 7,
     "metadata": {},
     "output_type": "execute_result"
    }
   ],
   "source": [
    "'I have eaten ' + str(99) + ' burritos.'"
   ]
  }
 ],
 "metadata": {
  "kernelspec": {
   "display_name": "Python 3",
   "language": "python",
   "name": "python3"
  },
  "language_info": {
   "codemirror_mode": {
    "name": "ipython",
    "version": 3
   },
   "file_extension": ".py",
   "mimetype": "text/x-python",
   "name": "python",
   "nbconvert_exporter": "python",
   "pygments_lexer": "ipython3",
   "version": "3.8.5"
  }
 },
 "nbformat": 4,
 "nbformat_minor": 4
}
